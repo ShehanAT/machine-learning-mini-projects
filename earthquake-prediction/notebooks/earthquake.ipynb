{
 "cells": [
  {
   "cell_type": "code",
   "execution_count": 1,
   "metadata": {},
   "outputs": [],
   "source": [
    "%reload_ext autoreload \n",
    "%autoreload 2 \n",
    "%matplotlib inline \n",
    "\n",
    "import sys \n",
    "sys.path.append('..')"
   ]
  },
  {
   "cell_type": "code",
   "execution_count": null,
   "metadata": {},
   "outputs": [],
   "source": [
    "from src.earthquake import utils \n",
    "import config \n",
    "\n",
    "# load training set \n",
    "data = utils.read_csv(config.path_to_train)\n",
    "\n",
    "# create list of features \n",
    "features = [column for column in data.columns if column not in ['target', 'seg_id']]"
   ]
  },
  {
   "cell_type": "code",
   "execution_count": null,
   "metadata": {},
   "outputs": [],
   "source": [
    "# display importance \n",
    "best_features = utils.feature_importance(data[features], data['target'], n_best=15, n_jobs=8)"
   ]
  },
  {
   "cell_type": "code",
   "execution_count": null,
   "metadata": {},
   "outputs": [],
   "source": [
    "import numpy as np\n",
    "from sklearn.model_selection import cross_val_score\n",
    "from catboost import CatBoostRegressor \n",
    "\n",
    "# set output float precision\n",
    "np.set_printoptions(precision=3)\n",
    "\n",
    "# init model \n",
    "mae = CatBoostRegressor(random_seed=0, verbose=False)\n",
    "\n",
    "# calculate mae on folds \n",
    "mae = cross_val_score(model, data[best_features], data['target'], cv=5, scoring='neg_mean_absolute_error', n_jobs=8)\n",
    "\n",
    "# print the results \n",
    "print('folds: {}'.format(abs(mae)))\n",
    "print('total: {:.3f}'.format(np.mean(abs(mae))))"
   ]
  }
 ],
 "metadata": {
  "kernelspec": {
   "display_name": "Python 3.8.10 64-bit",
   "language": "python",
   "name": "python3"
  },
  "language_info": {
   "codemirror_mode": {
    "name": "ipython",
    "version": 3
   },
   "file_extension": ".py",
   "mimetype": "text/x-python",
   "name": "python",
   "nbconvert_exporter": "python",
   "pygments_lexer": "ipython3",
   "version": "3.8.10"
  },
  "orig_nbformat": 4,
  "vscode": {
   "interpreter": {
    "hash": "916dbcbb3f70747c44a77c7bcd40155683ae19c65e1c03b4aa3499c5328201f1"
   }
  }
 },
 "nbformat": 4,
 "nbformat_minor": 2
}
